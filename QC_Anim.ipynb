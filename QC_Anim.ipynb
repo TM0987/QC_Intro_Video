{
  "nbformat": 4,
  "nbformat_minor": 0,
  "metadata": {
    "colab": {
      "name": "QC_Anim.ipynb",
      "provenance": [],
      "collapsed_sections": [],
      "include_colab_link": true
    },
    "kernelspec": {
      "name": "python3",
      "display_name": "Python 3"
    },
    "language_info": {
      "name": "python"
    }
  },
  "cells": [
    {
      "cell_type": "markdown",
      "metadata": {
        "id": "view-in-github",
        "colab_type": "text"
      },
      "source": [
        "<a href=\"https://colab.research.google.com/github/TM0987/QC_Intro_Video/blob/main/QC_Anim.ipynb\" target=\"_parent\"><img src=\"https://colab.research.google.com/assets/colab-badge.svg\" alt=\"Open In Colab\"/></a>"
      ]
    },
    {
      "cell_type": "code",
      "metadata": {
        "id": "YU5mX0Y806gX"
      },
      "source": [
        "# # Dependencies for the manim library\n",
        "!sudo apt update\n",
        "!sudo apt install libcairo2-dev ffmpeg texlive texlive-latex-extra texlive-fonts-extra texlive-latex-recommended texlive-science tipa libpango1.0-dev\n",
        "!pip install manim\n",
        "!pip install IPython --upgrade"
      ],
      "execution_count": 1,
      "outputs": []
    },
    {
      "cell_type": "code",
      "metadata": {
        "id": "vahKdAcz0-N2",
        "colab": {
          "base_uri": "https://localhost:8080/",
          "height": 51
        },
        "outputId": "50311b85-eb18-4a8b-e89a-83e782f6b242"
      },
      "source": [
        "from manim import *\n",
        "import manimpango"
      ],
      "execution_count": null,
      "outputs": [
        {
          "output_type": "display_data",
          "data": {
            "text/html": [
              "<pre style=\"white-space:pre;overflow-x:auto;line-height:normal;font-family:Menlo,'DejaVu Sans Mono',consolas,'Courier New',monospace\">Manim Community <span style=\"color: #008000; text-decoration-color: #008000\">v0.9.0</span>\n",
              "\n",
              "</pre>\n"
            ],
            "text/plain": [
              "Manim Community \u001b[32mv0.\u001b[0m\u001b[32m9.0\u001b[0m\n",
              "\n"
            ]
          },
          "metadata": {}
        }
      ]
    },
    {
      "cell_type": "code",
      "metadata": {
        "id": "alBuvgNp2FFs"
      },
      "source": [
        "%%manim Intro\n",
        "\n",
        "class Intro(ThreeDScene):\n",
        "    def construct(self):\n",
        "        #logo = ImageMobject(\"/content/media/images/content/chs_logo.jpg\")\n",
        "        title = Text(\"Quantum Computing @ Churchill\",weight=\"SEMIBOLD\",gradient=(BLUE_E,GREEN,WHITE))\n",
        "        \n",
        "        # Matrices\n",
        "        z_gate = IntegerMatrix([[1, 0], [0, -1]],left_bracket=\"(\",right_bracket=\")\")\n",
        "        zero_state = IntegerMatrix([[1],[0]],left_bracket=\"(\",right_bracket=\")\")\n",
        "        equals = Text(\"=\")\n",
        "        result = IntegerMatrix([[1],[0]],left_bracket=\"(\",right_bracket=\")\")\n",
        "\n",
        "        z_gate.shift(LEFT*2,UP*1.5)\n",
        "        zero_state.next_to(z_gate,RIGHT)\n",
        "        result.shift(RIGHT*2,DOWN*1)\n",
        "        equals.next_to(result,LEFT)\n",
        "\n",
        "\n",
        "        # Superposition\n",
        "        ket0 = Text(r\"|0>\")\n",
        "        ket0.shift(LEFT*3)\n",
        "        ket1 = Text(r\"|1>\")\n",
        "        ket1.shift(RIGHT*3)\n",
        "        d1 = Dot().set_color(BLUE_D)\n",
        "        l1 = Line(start=LEFT*2.4,end=RIGHT*2.4,fill_opacity=0)\n",
        "\n",
        "\n",
        "        # Bloch Sphere init\n",
        "        axes = ThreeDAxes()\n",
        "        sphere = ParametricSurface(\n",
        "            lambda u, v: np.array([\n",
        "                np.cos(u) * np.cos(v),\n",
        "                np.cos(u) * np.sin(v),\n",
        "                np.sin(u)\n",
        "            ]), v_range=[0, TAU], u_range=[-PI / 2, PI / 2],\n",
        "            checkerboard_colors=[BLUE_A, BLUE_B], resolution=(15, 32),fill_opacity=0.4\n",
        "        )\n",
        "        arrow = Arrow3D(start=np.array([0, 0, 0]), end=np.array([np.sqrt(2)/2, np.sqrt(2)/2, np.sqrt(2)/2]))\n",
        "        # Rect to Cover at end\n",
        "        box = Square(side_length=500.0,color=DARKER_GRAY, fill_opacity=0.75)\n",
        "\n",
        "\n",
        "        # # Animation\n",
        "        # # Operator on State\n",
        "        self.play(FadeIn(z_gate,shift=UP,scale=1.5),FadeIn(zero_state,shift=UP,scale=1.5))\n",
        "        self.play(Write(equals),Write(result))\n",
        "        self.play(FadeOut(z_gate,shift=UP,scale=0.5),FadeOut(zero_state,shift=UP,scale=0.5),FadeOut(equals),FadeOut(result))\n",
        "        \n",
        "        # # Superposition\n",
        "        self.play(FadeIn(ket0),FadeIn(ket1))\n",
        "        for n in range(3):\n",
        "          self.play(MoveAlongPath(d1, l1, rate_func=rate_functions.there_and_back))\n",
        "        self.play(FadeOut(ket0),FadeOut(ket1),FadeOut(d1))\n",
        "          \n",
        "\n",
        "        # # Bloch Sphere\n",
        "        self.set_camera_orientation(phi= 75 * DEGREES, theta=30 * DEGREES)\n",
        "        self.add(axes)\n",
        "        self.add(sphere)\n",
        "        self.add(arrow)\n",
        "\n",
        "        self.begin_ambient_camera_rotation(rate=0.1)\n",
        "        self.wait(5)\n",
        "        \n",
        "        \n",
        "        # # Title\n",
        "        self.add_fixed_in_frame_mobjects(box)\n",
        "        self.add_fixed_in_frame_mobjects(title)\n",
        "        self.play(FadeIn(box))\n",
        "        self.wait(0.25)\n",
        "        self.wait(1)\n",
        "        self.play(FadeOut(title,shift=DOWN))\n",
        "        self.stop_ambient_camera_rotation()\n",
        "        self.wait()\n",
        "\n",
        "\n",
        "        \n",
        "        #self.play(FadeIn(logo, shift=DOWN, scale=0.5))\n",
        "        #self.play(FadeOut(logo, shift=DOWN * 2, scale=1.5))"
      ],
      "execution_count": 101,
      "outputs": []
    },
    {
      "cell_type": "code",
      "metadata": {
        "id": "aM6ocdPP2HQl"
      },
      "source": [
        ""
      ],
      "execution_count": 100,
      "outputs": []
    },
    {
      "cell_type": "code",
      "metadata": {
        "id": "4HRRx5fv9_Cb"
      },
      "source": [
        ""
      ],
      "execution_count": null,
      "outputs": []
    }
  ]
}